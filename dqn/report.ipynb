{
 "cells": [
  {
   "cell_type": "code",
   "execution_count": 1,
   "id": "a2a3c6e9",
   "metadata": {},
   "outputs": [],
   "source": [
    "from dqn import run_experiment1, Config\n",
    "from unityagents import UnityEnvironment\n",
    "import json"
   ]
  },
  {
   "cell_type": "code",
   "execution_count": 2,
   "id": "e8d9f101",
   "metadata": {},
   "outputs": [
    {
     "name": "stderr",
     "output_type": "stream",
     "text": [
      "INFO:unityagents:\n",
      "'Academy' started successfully!\n",
      "Unity Academy name: Academy\n",
      "        Number of Brains: 1\n",
      "        Number of External Brains : 1\n",
      "        Lesson number : 0\n",
      "        Reset Parameters :\n",
      "\t\t\n",
      "Unity brain name: BananaBrain\n",
      "        Number of Visual Observations (per agent): 0\n",
      "        Vector Observation space type: continuous\n",
      "        Vector Observation space size (per agent): 37\n",
      "        Number of stacked Vector Observation: 1\n",
      "        Vector Action space type: discrete\n",
      "        Vector Action space size (per agent): 4\n",
      "        Vector Action descriptions: , , , \n"
     ]
    }
   ],
   "source": [
    "env = UnityEnvironment(file_name=\"./Banana_Linux/Banana.x86_64\", no_graphics=True)"
   ]
  },
  {
   "cell_type": "markdown",
   "id": "90322c7d",
   "metadata": {},
   "source": [
    "# Case1: Prioritized Experience Replay (PER)"
   ]
  },
  {
   "cell_type": "code",
   "execution_count": 3,
   "id": "0237bc06",
   "metadata": {},
   "outputs": [],
   "source": [
    "config = Config(\n",
    "    seed=101, batch_size=64, n_episodes=600, lr=1e-4,\n",
    "    #\n",
    "    gamma=0.99, update_every=4, soft_update=1e-3,\n",
    "    #\n",
    "    buffer_size=100_000, buffer_alpha=0.6, buffer_beta=0.4, buffer_eps=1e-5, buffer_beta_anneal_steps=100_000,\n",
    "    #\n",
    "    dueling_network=False,\n",
    "    double_dqn=False,\n",
    "    #\n",
    "    t_max=500, score_threshold=13.0, score_window=100, eps_init=1.0, eps_final=0.01, eps_decay=0.975,\n",
    "    #\n",
    "    device='cpu'\n",
    ") "
   ]
  },
  {
   "cell_type": "code",
   "execution_count": 4,
   "id": "ba2f0969",
   "metadata": {},
   "outputs": [
    {
     "name": "stderr",
     "output_type": "stream",
     "text": [
      "Episode: 100%|███████████████████████████████████████████████████| 600/600 [07:35<00:00,  1.32it/s, score=4.0, mean_score=11.67, eps=0.0100]\n",
      "Solved in 475: 100%|████████████████████████████████████████████| 600/600 [07:36<00:00,  1.31it/s, score=12.0, mean_score=13.90, eps=0.0100]\n",
      "Solved in 591: 100%|█████████████████████████████████████████████| 600/600 [07:37<00:00,  1.31it/s, score=7.0, mean_score=12.89, eps=0.0100]\n",
      "Solved in 480: 100%|█████████████████████████████████████████████| 600/600 [07:36<00:00,  1.32it/s, score=4.0, mean_score=14.04, eps=0.0100]\n",
      "Solved in 522: 100%|████████████████████████████████████████████| 600/600 [07:36<00:00,  1.31it/s, score=19.0, mean_score=13.72, eps=0.0100]\n",
      "Solved in 534: 100%|████████████████████████████████████████████| 600/600 [07:38<00:00,  1.31it/s, score=18.0, mean_score=13.73, eps=0.0100]\n",
      "Episode: 100%|██████████████████████████████████████████████████| 600/600 [07:39<00:00,  1.31it/s, score=18.0, mean_score=12.12, eps=0.0100]\n"
     ]
    }
   ],
   "source": [
    "case1_scores = []\n",
    "for _ in range(7):\n",
    "    case1_scores.append(\n",
    "        run_experiment1(config, env)\n",
    "    )\n",
    "\n",
    "with open('case1_scores.json', 'w') as f:\n",
    "    json.dump(case1_scores, f)"
   ]
  },
  {
   "cell_type": "markdown",
   "id": "eb272274",
   "metadata": {},
   "source": [
    "# Case 2: PER and Double-DQN "
   ]
  },
  {
   "cell_type": "code",
   "execution_count": 5,
   "id": "d7a82594",
   "metadata": {},
   "outputs": [],
   "source": [
    "config.double_dqn = True\n",
    "config.dueling_network = False"
   ]
  },
  {
   "cell_type": "code",
   "execution_count": 6,
   "id": "3cfa9f2f",
   "metadata": {},
   "outputs": [
    {
     "name": "stderr",
     "output_type": "stream",
     "text": [
      "Solved in 417: 100%|████████████████████████████████████████████| 600/600 [07:43<00:00,  1.29it/s, score=19.0, mean_score=13.62, eps=0.0100]\n",
      "Solved in 537: 100%|████████████████████████████████████████████| 600/600 [07:47<00:00,  1.28it/s, score=14.0, mean_score=12.60, eps=0.0100]\n",
      "Episode: 100%|██████████████████████████████████████████████████| 600/600 [07:50<00:00,  1.27it/s, score=13.0, mean_score=11.84, eps=0.0100]\n",
      "Solved in 384: 100%|████████████████████████████████████████████| 600/600 [07:46<00:00,  1.29it/s, score=18.0, mean_score=12.82, eps=0.0100]\n",
      "Solved in 404: 100%|████████████████████████████████████████████| 600/600 [07:43<00:00,  1.29it/s, score=15.0, mean_score=13.03, eps=0.0100]\n",
      "Solved in 477: 100%|█████████████████████████████████████████████| 600/600 [07:45<00:00,  1.29it/s, score=6.0, mean_score=13.54, eps=0.0100]\n",
      "Solved in 458: 100%|████████████████████████████████████████████| 600/600 [07:44<00:00,  1.29it/s, score=13.0, mean_score=13.94, eps=0.0100]\n"
     ]
    }
   ],
   "source": [
    "case2_scores = []\n",
    "for _ in range(7):\n",
    "    case2_scores.append(\n",
    "        run_experiment1(config, env)\n",
    "    )  \n",
    "\n",
    "with open('case2_scores.json', 'w') as f:\n",
    "    json.dump(case2_scores, f)"
   ]
  },
  {
   "cell_type": "markdown",
   "id": "f79542c7",
   "metadata": {},
   "source": [
    "# Case 3: PER, Double-DQN and Dueling Network"
   ]
  },
  {
   "cell_type": "code",
   "execution_count": 7,
   "id": "1d99e0a7",
   "metadata": {},
   "outputs": [],
   "source": [
    "config.double_dqn = True\n",
    "config.dueling_network = True"
   ]
  },
  {
   "cell_type": "code",
   "execution_count": 8,
   "id": "872181db",
   "metadata": {},
   "outputs": [
    {
     "name": "stderr",
     "output_type": "stream",
     "text": [
      "Solved in 309: 100%|████████████████████████████████████████████| 600/600 [08:00<00:00,  1.25it/s, score=15.0, mean_score=13.81, eps=0.0100]\n",
      "Solved in 426: 100%|████████████████████████████████████████████| 600/600 [08:00<00:00,  1.25it/s, score=19.0, mean_score=13.49, eps=0.0100]\n",
      "Solved in 429: 100%|████████████████████████████████████████████| 600/600 [08:01<00:00,  1.25it/s, score=15.0, mean_score=14.14, eps=0.0100]\n",
      "Solved in 340: 100%|████████████████████████████████████████████| 600/600 [07:58<00:00,  1.26it/s, score=10.0, mean_score=14.36, eps=0.0100]\n",
      "Solved in 565: 100%|████████████████████████████████████████████| 600/600 [08:06<00:00,  1.23it/s, score=13.0, mean_score=13.42, eps=0.0100]\n",
      "Solved in 446: 100%|████████████████████████████████████████████| 600/600 [08:01<00:00,  1.25it/s, score=14.0, mean_score=13.44, eps=0.0100]\n",
      "Solved in 385: 100%|████████████████████████████████████████████| 600/600 [08:03<00:00,  1.24it/s, score=16.0, mean_score=13.76, eps=0.0100]\n"
     ]
    }
   ],
   "source": [
    "case3_scores = []\n",
    "for _ in range(7):\n",
    "    case3_scores.append(\n",
    "        run_experiment1(config, env)\n",
    "    )\n",
    "\n",
    "with open('case3_scores.json', 'w') as f:\n",
    "    json.dump(case3_scores, f)"
   ]
  },
  {
   "cell_type": "markdown",
   "id": "33134ab2",
   "metadata": {},
   "source": [
    "Close the environment after all the experiment are done"
   ]
  },
  {
   "cell_type": "code",
   "execution_count": 9,
   "id": "0e960082",
   "metadata": {},
   "outputs": [],
   "source": [
    "env.close()"
   ]
  },
  {
   "cell_type": "markdown",
   "id": "19485de0",
   "metadata": {},
   "source": [
    "# Plots"
   ]
  },
  {
   "cell_type": "code",
   "execution_count": null,
   "id": "8b7bb66b",
   "metadata": {},
   "outputs": [],
   "source": [
    "import matplotlib.pyplot as plt"
   ]
  }
 ],
 "metadata": {
  "kernelspec": {
   "display_name": "py3.6.8",
   "language": "python",
   "name": "python3"
  },
  "language_info": {
   "codemirror_mode": {
    "name": "ipython",
    "version": 3
   },
   "file_extension": ".py",
   "mimetype": "text/x-python",
   "name": "python",
   "nbconvert_exporter": "python",
   "pygments_lexer": "ipython3",
   "version": "3.6.8"
  }
 },
 "nbformat": 4,
 "nbformat_minor": 5
}
